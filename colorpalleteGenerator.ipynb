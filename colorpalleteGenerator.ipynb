{
 "cells": [
  {
   "cell_type": "code",
   "execution_count": null,
   "metadata": {},
   "outputs": [],
   "source": [
    "import numpy as np\n",
    "import matplotlib.pyplot as plt\n",
    "from tkinter import Tk, filedialog\n",
    "from PIL import Image, ImageOps"
   ]
  },
  {
   "cell_type": "code",
   "execution_count": 44,
   "metadata": {},
   "outputs": [],
   "source": [
    "def select_image():\n",
    "    root = Tk()\n",
    "    root.withdraw()  # Hide the main window\n",
    "\n",
    "    file_path = filedialog.askopenfilename()  # Open file dialog to select image\n",
    "    root.destroy()  # Close the Tkinter window\n",
    "    return file_path\n",
    "\n",
    "def generate_palette_from_image(num_colors):\n",
    "    img = Image.open('test3.png')\n",
    "    img = img.resize((150, 150))\n",
    "    img = img.convert('RGB')\n",
    "    img_array = np.array(img)\n",
    "    img_array_reshaped = img_array.reshape(-1, 3)\n",
    "\n",
    "    selected_indices = np.random.choice(len(img_array_reshaped), num_colors, replace=False)\n",
    "    palette = img_array_reshaped[selected_indices]\n",
    "    \n",
    "    return palette\n",
    "\n",
    "def display_palette(palette):\n",
    "    plt.imshow([palette])\n",
    "    plt.show()"
   ]
  },
  {
   "cell_type": "code",
   "execution_count": null,
   "metadata": {},
   "outputs": [],
   "source": [
    "filepath = input(\"Enter Your Image\")\n",
    "palette = generate_palette_from_image(5)\n",
    "print(palette)\n",
    "display_palette(palette)"
   ]
  },
  {
   "cell_type": "code",
   "execution_count": null,
   "metadata": {},
   "outputs": [],
   "source": []
  },
  {
   "cell_type": "code",
   "execution_count": null,
   "metadata": {},
   "outputs": [],
   "source": []
  },
  {
   "cell_type": "code",
   "execution_count": null,
   "metadata": {},
   "outputs": [],
   "source": []
  }
 ],
 "metadata": {
  "kernelspec": {
   "display_name": "Python 3",
   "language": "python",
   "name": "python3"
  },
  "language_info": {
   "codemirror_mode": {
    "name": "ipython",
    "version": 3
   },
   "file_extension": ".py",
   "mimetype": "text/x-python",
   "name": "python",
   "nbconvert_exporter": "python",
   "pygments_lexer": "ipython3",
   "version": "3.7.3"
  }
 },
 "nbformat": 4,
 "nbformat_minor": 4
}
